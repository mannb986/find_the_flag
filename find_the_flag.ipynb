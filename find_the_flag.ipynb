{
 "cells": [
  {
   "cell_type": "markdown",
   "metadata": {},
   "source": [
    "# Find the Flag\n",
    "\n",
    "In this project, I will use decision trees to try to predict the continent of flags based on several of these features.\n",
    "\n",
    "I will explore which features are the best to use and the best way to create your decision tree."
   ]
  },
  {
   "cell_type": "code",
   "execution_count": 1,
   "metadata": {},
   "outputs": [],
   "source": [
    "import pandas as pd\n",
    "from sklearn.model_selection import train_test_split\n",
    "from sklearn.tree import DecisionTreeClassifier\n",
    "import matplotlib.pyplot as plt"
   ]
  },
  {
   "cell_type": "markdown",
   "metadata": {},
   "source": [
    "### Investigating the Data"
   ]
  },
  {
   "cell_type": "code",
   "execution_count": 2,
   "metadata": {},
   "outputs": [],
   "source": [
    "flags = pd.read_csv('flags.csv', header=0)"
   ]
  },
  {
   "cell_type": "code",
   "execution_count": 3,
   "metadata": {
    "tags": []
   },
   "outputs": [
    {
     "output_type": "stream",
     "name": "stdout",
     "text": "Index(['Name', 'Landmass', 'Zone', 'Area', 'Population', 'Language',\n       'Religion', 'Bars', 'Stripes', 'Colors', 'Red', 'Green', 'Blue', 'Gold',\n       'White', 'Black', 'Orange', 'Mainhue', 'Circles', 'Crosses', 'Saltires',\n       'Quarters', 'Sunstars', 'Crescent', 'Triangle', 'Icon', 'Animate',\n       'Text', 'Topleft', 'Botright'],\n      dtype='object')\n"
    }
   ],
   "source": [
    "print(flags.columns)"
   ]
  },
  {
   "cell_type": "code",
   "execution_count": 4,
   "metadata": {
    "tags": []
   },
   "outputs": [
    {
     "output_type": "stream",
     "name": "stdout",
     "text": "Name  Landmass  Zone  Area  Population  Language  Religion  Bars  \\\n0     Afghanistan         5     1   648          16        10         2     0   \n1         Albania         3     1    29           3         6         6     0   \n2         Algeria         4     1  2388          20         8         2     2   \n3  American-Samoa         6     3     0           0         1         1     0   \n4         Andorra         3     1     0           0         6         0     3   \n\n   Stripes  Colors  ...  Saltires  Quarters  Sunstars  Crescent  Triangle  \\\n0        3       5  ...         0         0         1         0         0   \n1        0       3  ...         0         0         1         0         0   \n2        0       3  ...         0         0         1         1         0   \n3        0       5  ...         0         0         0         0         1   \n4        0       3  ...         0         0         0         0         0   \n\n   Icon  Animate Text  Topleft  Botright  \n0     1        0    0    black     green  \n1     0        1    0      red       red  \n2     0        0    0    green     white  \n3     1        1    0     blue       red  \n4     0        0    0     blue       red  \n\n[5 rows x 30 columns]\n"
    }
   ],
   "source": [
    "print(flags.head())"
   ]
  },
  {
   "cell_type": "markdown",
   "metadata": {},
   "source": [
    "### Creating Data & Labels"
   ]
  },
  {
   "cell_type": "code",
   "execution_count": 6,
   "metadata": {
    "tags": []
   },
   "outputs": [
    {
     "output_type": "stream",
     "name": "stdout",
     "text": "Landmass\n0           5\n1           3\n2           4\n3           6\n4           3\n..        ...\n189         6\n190         3\n191         4\n192         4\n193         4\n\n[194 rows x 1 columns]\n"
    }
   ],
   "source": [
    "labels = flags[['Landmass']]\n",
    "print(labels)"
   ]
  },
  {
   "cell_type": "code",
   "execution_count": 8,
   "metadata": {
    "tags": []
   },
   "outputs": [
    {
     "output_type": "stream",
     "name": "stdout",
     "text": "Red  Green  Blue  Gold  White  Black  Orange\n0      1      1     0     1      1      1       0\n1      1      0     0     1      0      1       0\n2      1      1     0     0      1      0       0\n3      1      0     1     1      1      0       1\n4      1      0     1     1      0      0       0\n..   ...    ...   ...   ...    ...    ...     ...\n189    1      0     1     0      1      0       0\n190    1      0     1     1      1      0       0\n191    1      1     0     1      0      0       1\n192    1      1     0     0      0      1       1\n193    1      1     0     1      1      1       0\n\n[194 rows x 7 columns]\n"
    }
   ],
   "source": [
    "data = flags[[\"Red\", \"Green\", \"Blue\", \"Gold\", \"White\", \"Black\", \"Orange\"]]\n",
    "print(data)"
   ]
  },
  {
   "cell_type": "code",
   "execution_count": 9,
   "metadata": {},
   "outputs": [],
   "source": [
    "train_data, test_data, train_labels, test_labels = train_test_split(data, labels, random_state=1)"
   ]
  },
  {
   "cell_type": "markdown",
   "metadata": {},
   "source": [
    "### Making & Testing the Model"
   ]
  }
 ],
 "metadata": {
  "language_info": {
   "codemirror_mode": {
    "name": "ipython",
    "version": 3
   },
   "file_extension": ".py",
   "mimetype": "text/x-python",
   "name": "python",
   "nbconvert_exporter": "python",
   "pygments_lexer": "ipython3",
   "version": "3.7.10-final"
  },
  "orig_nbformat": 2,
  "kernelspec": {
   "name": "python371064bitmyenvconda1da8a860bc054dcfb4058b2e550ba27d",
   "display_name": "Python 3.7.10 64-bit ('myenv': conda)"
  }
 },
 "nbformat": 4,
 "nbformat_minor": 2
}